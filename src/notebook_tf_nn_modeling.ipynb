{
  "nbformat": 4,
  "nbformat_minor": 0,
  "metadata": {
    "colab": {
      "name": "TF_NLP_Final_Project.ipynb",
      "provenance": [],
      "collapsed_sections": []
    },
    "kernelspec": {
      "name": "python3",
      "display_name": "Python 3"
    },
    "language_info": {
      "name": "python"
    },
    "accelerator": "GPU"
  },
  "cells": [
    {
      "cell_type": "markdown",
      "source": [
        "# NLP FINAL PROJECT\n",
        "## Discriminatory Neural Network Training\n",
        "### Keras Implementation"
      ],
      "metadata": {
        "id": "cMqM3sNcVser"
      }
    },
    {
      "cell_type": "code",
      "execution_count": 1,
      "metadata": {
        "colab": {
          "base_uri": "https://localhost:8080/"
        },
        "id": "i0ZSsvG3Vn55",
        "outputId": "1d38e38e-4bf6-4fe6-967e-6c2537744e7e"
      },
      "outputs": [
        {
          "output_type": "stream",
          "name": "stdout",
          "text": [
            "fatal: destination path 'Duke-NLP-FinalProject' already exists and is not an empty directory.\n",
            "Requirement already satisfied: pytorch-nlp in /usr/local/lib/python3.7/dist-packages (0.5.0)\n",
            "Requirement already satisfied: numpy in /usr/local/lib/python3.7/dist-packages (from pytorch-nlp) (1.19.5)\n",
            "Requirement already satisfied: tqdm in /usr/local/lib/python3.7/dist-packages (from pytorch-nlp) (4.62.3)\n"
          ]
        }
      ],
      "source": [
        "!git clone https://github.com/dai-anna/Duke-NLP-FinalProject.git\n",
        "!cd Duke-NLP-FinalProject\n",
        "!pip install pytorch-nlp\n"
      ]
    },
    {
      "cell_type": "code",
      "source": [
        "# Import libraries\n",
        "import pandas as pd\n",
        "import tensorflow as tf\n",
        "from tensorflow.python.keras.layers.wrappers import Bidirectional\n",
        "import torch\n",
        "import torchnlp\n",
        "import torch.nn as nn\n",
        "import joblib\n",
        "tf.random.set_seed(42)"
      ],
      "metadata": {
        "id": "ecHiacI-V59h"
      },
      "execution_count": 2,
      "outputs": []
    },
    {
      "cell_type": "code",
      "source": [
        "def encode_dataframe(\n",
        "    encoder, data, mode=\"pytorch\"\n",
        "):\n",
        "    \"\"\"Encode a dataframe with a given encoder. Splits and returns X and y separately.\"\"\"\n",
        "    encoded_tweets = [encoder.encode(tweet) for tweet in data[\"tweet\"]]\n",
        "\n",
        "    if mode == \"sklearn\":\n",
        "        encoded_tweets = [\n",
        "            \" \".join(str(x) for x in encoded_tweets[idx].numpy())\n",
        "            for idx in range(len(encoded_tweets))\n",
        "        ]\n",
        "\n",
        "    return encoded_tweets, data[\"hashtag\"]\n",
        "\n",
        "hashtags = [\n",
        "    \"crypto\",\n",
        "    \"tesla\",\n",
        "    \"gsw\",\n",
        "    \"formula1\",\n",
        "    \"thanksgiving\",\n",
        "    \"holidays\",\n",
        "    \"covid19\",\n",
        "]"
      ],
      "metadata": {
        "id": "rEIFj8HrV-_t"
      },
      "execution_count": 3,
      "outputs": []
    },
    {
      "cell_type": "code",
      "source": [
        "# Load data from disk\n",
        "encoder = joblib.load(\"Duke-NLP-FinalProject/artefacts/encoder.pickle\")\n",
        "\n",
        "train = pd.read_parquet(\"Duke-NLP-FinalProject/data/train.parquet\")\n",
        "val = pd.read_parquet(\"Duke-NLP-FinalProject/data/val.parquet\")\n",
        "test = pd.read_parquet(\"Duke-NLP-FinalProject/data/test.parquet\")\n",
        "\n",
        "train = train.assign(lenoftweet=train.tweet.apply(lambda x: len(x.split())))\n",
        "train = train.query(\"lenoftweet <= 60\")\n",
        "\n",
        "xtrain, ytrain = encode_dataframe(encoder, data=train, mode=\"pytorch\")\n",
        "xval, yval = encode_dataframe(encoder, data=val, mode=\"pytorch\")\n",
        "xtest, ytest = encode_dataframe(encoder, data=test, mode=\"pytorch\")"
      ],
      "metadata": {
        "id": "aDQC8NA9WScL"
      },
      "execution_count": 4,
      "outputs": []
    },
    {
      "cell_type": "code",
      "source": [
        "# Specify hyperparameters\n",
        "embedding_dim = 32\n",
        "hidden_size = 64\n",
        "hidden_dense_dim = 32\n",
        "dropout_rate = 0.5\n",
        "\n",
        "batch_size = 64\n",
        "num_epochs = 15\n",
        "learning_rate = 10**-2.5"
      ],
      "metadata": {
        "id": "QFYu3ahBWdgE"
      },
      "execution_count": 5,
      "outputs": []
    },
    {
      "cell_type": "code",
      "source": [
        "# Pad my input sequence with zeros\n",
        "xtrain = nn.utils.rnn.pad_sequence(sequences=xtrain, batch_first=True, padding_value=0.0)\n",
        "xval = nn.utils.rnn.pad_sequence(sequences=xval, batch_first=True, padding_value=0.0)\n",
        "xtest = nn.utils.rnn.pad_sequence(sequences=xtest, batch_first=True, padding_value=0.0)\n"
      ],
      "metadata": {
        "id": "wXPdEWf6WgJ6"
      },
      "execution_count": 6,
      "outputs": []
    },
    {
      "cell_type": "code",
      "source": [
        "# Load data \n",
        "\n",
        "train_dataset = tf.data.Dataset.from_tensor_slices(\n",
        "    (xtrain, ytrain.cat.codes.values)\n",
        ").batch(batch_size)\n",
        "val_dataset = tf.data.Dataset.from_tensor_slices((xval, yval.cat.codes.values)).batch(\n",
        "    batch_size\n",
        ")\n"
      ],
      "metadata": {
        "id": "9oAEU1jPWjZw"
      },
      "execution_count": 7,
      "outputs": []
    },
    {
      "cell_type": "code",
      "source": [
        "# Train model\n",
        "from tensorflow import keras\n",
        "\n",
        "model = keras.Sequential(\n",
        "    [\n",
        "        keras.layers.Embedding(input_dim=encoder.vocab_size, output_dim=embedding_dim),\n",
        "        keras.layers.Bidirectional(keras.layers.GRU(hidden_size, return_sequences=False, kernel_regularizer=keras.regularizers.L2(0))),\n",
        "        # keras.layers.GRU(hidden_size, return_sequences=False, kernel_regularizer=keras.regularizers.L2(0)),\n",
        "        keras.layers.Dropout(rate=dropout_rate),\n",
        "        keras.layers.Dense(units=hidden_dense_dim, activation=\"relu\", kernel_regularizer=keras.regularizers.L2(0)),\n",
        "        keras.layers.Dropout(rate=dropout_rate),\n",
        "        keras.layers.Dense(7, activation=\"softmax\"),\n",
        "    ]\n",
        ")\n",
        "\n",
        "model.compile(\n",
        "    loss=\"sparse_categorical_crossentropy\", optimizer=keras.optimizers.Adam(learning_rate=learning_rate), metrics=[\"accuracy\"]\n",
        ")"
      ],
      "metadata": {
        "id": "pl5Lp1mLVxvD"
      },
      "execution_count": 8,
      "outputs": []
    },
    {
      "cell_type": "code",
      "source": [
        "checkpoint_filepath = \"Duke-NLP-FinalProject/data/trained_model/\"\n",
        "model_checkpoint_loss = tf.keras.callbacks.ModelCheckpoint(\n",
        "    filepath = checkpoint_filepath,\n",
        "    monitor=\"val_loss\",\n",
        "    save_best_only=True,\n",
        "    save_weights_only=True,\n",
        "    mode=\"min\",\n",
        "    save_freq=\"epoch\",\n",
        ")\n",
        "\n",
        "model_checkpoint_acc = tf.keras.callbacks.ModelCheckpoint(\n",
        "    filepath = checkpoint_filepath,\n",
        "    monitor=\"val_accuracy\",\n",
        "    save_best_only=True,\n",
        "    save_weights_only=True,\n",
        "    mode=\"max\",\n",
        "    save_freq=\"epoch\",\n",
        ")\n",
        "\n",
        "hist = model.fit(train_dataset, validation_data=val_dataset, epochs=num_epochs, callbacks=[model_checkpoint_loss, model_checkpoint_acc])\n",
        "\n",
        "# The model weights (that are considered the best) are loaded into the model.\n",
        "model.load_weights(checkpoint_filepath)\n",
        "\n",
        "\n",
        "pd.DataFrame(hist.history)[[\"loss\", \"val_loss\"]].plot(figsize=(8, 5))\n"
      ],
      "metadata": {
        "colab": {
          "base_uri": "https://localhost:8080/",
          "height": 830
        },
        "id": "l3oIO7IEZ1XN",
        "outputId": "c4ceee86-a5ce-4b33-eb4f-386e3fc50818"
      },
      "execution_count": 9,
      "outputs": [
        {
          "output_type": "stream",
          "name": "stdout",
          "text": [
            "Epoch 1/15\n",
            "270/270 [==============================] - 14s 36ms/step - loss: 1.3235 - accuracy: 0.4893 - val_loss: 0.9437 - val_accuracy: 0.6718\n",
            "Epoch 2/15\n",
            "270/270 [==============================] - 9s 33ms/step - loss: 0.8145 - accuracy: 0.7333 - val_loss: 0.8497 - val_accuracy: 0.7254\n",
            "Epoch 3/15\n",
            "270/270 [==============================] - 9s 33ms/step - loss: 0.6226 - accuracy: 0.7989 - val_loss: 0.9040 - val_accuracy: 0.7440\n",
            "Epoch 4/15\n",
            "270/270 [==============================] - 9s 33ms/step - loss: 0.5188 - accuracy: 0.8384 - val_loss: 0.8881 - val_accuracy: 0.7496\n",
            "Epoch 5/15\n",
            "270/270 [==============================] - 9s 33ms/step - loss: 0.4153 - accuracy: 0.8699 - val_loss: 0.9952 - val_accuracy: 0.7442\n",
            "Epoch 6/15\n",
            "270/270 [==============================] - 9s 33ms/step - loss: 0.3475 - accuracy: 0.8924 - val_loss: 1.1096 - val_accuracy: 0.7459\n",
            "Epoch 7/15\n",
            "270/270 [==============================] - 9s 33ms/step - loss: 0.2998 - accuracy: 0.9059 - val_loss: 1.2233 - val_accuracy: 0.7363\n",
            "Epoch 8/15\n",
            "270/270 [==============================] - 9s 32ms/step - loss: 0.2970 - accuracy: 0.9069 - val_loss: 1.3190 - val_accuracy: 0.7403\n",
            "Epoch 9/15\n",
            "270/270 [==============================] - 9s 33ms/step - loss: 0.2400 - accuracy: 0.9263 - val_loss: 1.3646 - val_accuracy: 0.7417\n",
            "Epoch 10/15\n",
            "270/270 [==============================] - 9s 33ms/step - loss: 0.2023 - accuracy: 0.9341 - val_loss: 1.6596 - val_accuracy: 0.7407\n",
            "Epoch 11/15\n",
            "270/270 [==============================] - 9s 33ms/step - loss: 0.1920 - accuracy: 0.9401 - val_loss: 1.6216 - val_accuracy: 0.7478\n",
            "Epoch 12/15\n",
            "270/270 [==============================] - 9s 33ms/step - loss: 0.1785 - accuracy: 0.9405 - val_loss: 1.8242 - val_accuracy: 0.7438\n",
            "Epoch 13/15\n",
            "270/270 [==============================] - 9s 33ms/step - loss: 0.1697 - accuracy: 0.9458 - val_loss: 2.0303 - val_accuracy: 0.7466\n",
            "Epoch 14/15\n",
            "270/270 [==============================] - 9s 33ms/step - loss: 0.1635 - accuracy: 0.9480 - val_loss: 1.9551 - val_accuracy: 0.7407\n",
            "Epoch 15/15\n",
            "270/270 [==============================] - 9s 32ms/step - loss: 0.1478 - accuracy: 0.9523 - val_loss: 2.1816 - val_accuracy: 0.7315\n"
          ]
        },
        {
          "output_type": "execute_result",
          "data": {
            "text/plain": [
              "<matplotlib.axes._subplots.AxesSubplot at 0x7f3270417550>"
            ]
          },
          "metadata": {},
          "execution_count": 9
        },
        {
          "output_type": "display_data",
          "data": {
            "image/png": "[encoded data removed]",
            "text/plain": [
              "<Figure size 576x360 with 1 Axes>"
            ]
          },
          "metadata": {
            "needs_background": "light"
          }
        }
      ]
    },
    {
      "cell_type": "code",
      "source": [
        "import math\n",
        "\n",
        "import matplotlib.pyplot as plt\n",
        "import tensorflow.keras.backend as K\n",
        "import numpy as np\n",
        "\n",
        "from tensorflow.keras.callbacks import LambdaCallback\n",
        "\n",
        "\n",
        "class LRFinder:\n",
        "    \"\"\"\n",
        "    Learning rate range test detailed in Cyclical Learning Rates for Training\n",
        "    Neural Networks by Leslie N. Smith. The learning rate range test is a test\n",
        "    that provides valuable information about the optimal learning rate. During\n",
        "    a pre-training run, the learning rate is increased linearly or\n",
        "    exponentially between two boundaries. The low initial learning rate allows\n",
        "    the network to start converging and as the learning rate is increased it\n",
        "    will eventually be too large and the network will diverge.\n",
        "    \"\"\"\n",
        "\n",
        "    def __init__(self, model):\n",
        "        self.model = model\n",
        "        self.losses = []\n",
        "        self.learning_rates = []\n",
        "        self.best_loss = 1e9\n",
        "\n",
        "    def on_batch_end(self, batch, logs):\n",
        "        lr = K.get_value(self.model.optimizer.lr)\n",
        "        self.learning_rates.append(lr)\n",
        "\n",
        "        loss = logs['loss']\n",
        "        self.losses.append(loss)\n",
        "\n",
        "        if batch > 5 and (math.isnan(loss) or loss > self.best_loss * 4):\n",
        "            self.model.stop_training = True\n",
        "            return\n",
        "\n",
        "        if loss < self.best_loss:\n",
        "            self.best_loss = loss\n",
        "\n",
        "        lr *= self.lr_mult\n",
        "        K.set_value(self.model.optimizer.lr, lr)\n",
        "\n",
        "    def find(self, dataset, start_lr, end_lr, epochs=1,\n",
        "             steps_per_epoch=None, **kw_fit):\n",
        "        if steps_per_epoch is None:\n",
        "            raise Exception('To correctly train on the datagenerator,'\n",
        "                            '`steps_per_epoch` cannot be None.'\n",
        "                            'You can calculate it as '\n",
        "                            '`np.ceil(len(TRAINING_LIST) / BATCH)`')\n",
        "\n",
        "        self.lr_mult = (float(end_lr) /\n",
        "                        float(start_lr)) ** (float(1) /\n",
        "                                             float(epochs * steps_per_epoch))\n",
        "        initial_weights = self.model.get_weights()\n",
        "\n",
        "        original_lr = K.get_value(self.model.optimizer.lr)\n",
        "        K.set_value(self.model.optimizer.lr, start_lr)\n",
        "\n",
        "        callback = LambdaCallback(on_batch_end=lambda batch,\n",
        "                                  logs: self.on_batch_end(batch, logs))\n",
        "\n",
        "        self.model.fit(dataset,\n",
        "                       epochs=epochs, callbacks=[callback], **kw_fit)\n",
        "        self.model.set_weights(initial_weights)\n",
        "\n",
        "        K.set_value(self.model.optimizer.lr, original_lr)\n",
        "\n",
        "    def get_learning_rates(self):\n",
        "        return(self.learning_rates)\n",
        "\n",
        "    def get_losses(self):\n",
        "        return(self.losses)\n",
        "\n",
        "    def get_derivatives(self, sma):\n",
        "        assert sma >= 1\n",
        "        derivatives = [0] * sma\n",
        "        for i in range(sma, len(self.learning_rates)):\n",
        "            derivatives.append((self.losses[i] - self.losses[i - sma]) / sma)\n",
        "        return derivatives\n",
        "\n",
        "    def get_best_lr(self, sma, n_skip_beginning=10, n_skip_end=5):\n",
        "        derivatives = self.get_derivatives(sma)\n",
        "        best_der_idx = np.argmin(derivatives[n_skip_beginning:-n_skip_end])\n",
        "        return self.learning_rates[n_skip_beginning:-n_skip_end][best_der_idx]"
      ],
      "metadata": {
        "id": "JIHgLAnsaxsI"
      },
      "execution_count": 10,
      "outputs": []
    },
    {
      "cell_type": "code",
      "source": [
        "lr_finder = LRFinder(model)\n",
        "\n",
        "# Train a model with batch size 512 for 5 epochs\n",
        "# with learning rate growing exponentially from 0.0001 to 1\n",
        "lr_finder.find(train_dataset, start_lr=0.0001, end_lr=1, batch_size=batch_size, epochs=1, steps_per_epoch=np.ceil(len(xtrain) / batch_size))\n",
        "\n",
        "pd.DataFrame({\n",
        "    \"lr\": lr_finder.get_learning_rates(),\n",
        "    \"loss\": lr_finder.get_losses()\n",
        "}).plot(x=\"lr\", y=\"loss\")\n",
        "plt.xscale(\"log\")\n",
        "plt.show()"
      ],
      "metadata": {
        "colab": {
          "base_uri": "https://localhost:8080/",
          "height": 300
        },
        "id": "jWk71r6XaySO",
        "outputId": "01592a5d-130c-4038-9212-174fff2f14e2"
      },
      "execution_count": 11,
      "outputs": [
        {
          "output_type": "stream",
          "name": "stdout",
          "text": [
            "270/270 [==============================] - 8s 30ms/step - loss: 1.1731 - accuracy: 0.6363\n"
          ]
        },
        {
          "output_type": "display_data",
          "data": {
            "image/png": "[encoded data removed]",
            "text/plain": [
              "<Figure size 432x288 with 1 Axes>"
            ]
          },
          "metadata": {
            "needs_background": "light"
          }
        }
      ]
    },
    {
      "cell_type": "code",
      "source": [
        ""
      ],
      "metadata": {
        "id": "lqqXAURDbiw_"
      },
      "execution_count": 11,
      "outputs": []
    }
  ]
}